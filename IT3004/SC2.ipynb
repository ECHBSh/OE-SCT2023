{
  "cells": [
    {
      "cell_type": "markdown",
      "source": [
        "Prac 6:Write a program to classify the numerals (between 0-9) using perceptron network."
      ],
      "metadata": {
        "id": "AfK1mA18dap5"
      }
    },
    {
      "cell_type": "code",
      "source": [
        "from sklearn.datasets import load_digits\n",
        "from sklearn.linear_model import Perceptron\n",
        "from sklearn.model_selection import train_test_split\n",
        "from sklearn.metrics import accuracy_score\n",
        "\n",
        "digits = load_digits()\n",
        "\n",
        "X_train, X_test, y_train, y_test = train_test_split(digits.data, digits.target, test_size=0.2, random_state=42)\n",
        "\n",
        "clf = Perceptron(max_iter=1000)\n",
        "\n",
        "clf.fit(X_train, y_train)\n",
        "\n",
        "y_pred = clf.predict(X_test)\n",
        "print(X_test)\n",
        "print(y_pred)\n",
        "accuracy = accuracy_score(y_test, y_pred)\n",
        "\n",
        "print(\"Accuracy:\", accuracy)\n"
      ],
      "metadata": {
        "id": "GaEj4hMbdc4b"
      },
      "execution_count": null,
      "outputs": []
    },
    {
      "cell_type": "markdown",
      "metadata": {
        "id": "MQnQAtrm-spH"
      },
      "source": [
        "SC PRac7:Write a program to train a Madaline to perform OR function using MR-I algorithm."
      ]
    },
    {
      "cell_type": "code",
      "execution_count": null,
      "metadata": {
        "colab": {
          "base_uri": "https://localhost:8080/"
        },
        "id": "Gihhf_G1X8HZ",
        "outputId": "41e63067-8c17-46f0-fa41-4ddfd183ffd7"
      },
      "outputs": [
        {
          "name": "stdout",
          "output_type": "stream",
          "text": [
            "[[-2]\n",
            " [ 0]\n",
            " [ 0]\n",
            " [ 2]]\n"
          ]
        }
      ],
      "source": [
        "import numpy as np\n",
        "\n",
        "# Define the activation function\n",
        "def activation(x):\n",
        "    return np.where(x>=0, 1, -1)\n",
        "\n",
        "# Define the Madaline class\n",
        "class Madaline:\n",
        "    def __init__(self, input_dim, output_dim, num_units):\n",
        "        self.input_dim = input_dim\n",
        "        self.output_dim = output_dim\n",
        "        self.num_units = num_units\n",
        "        self.weights = [np.random.randn(input_dim, output_dim) for i in range(num_units)]\n",
        "        self.biases = [np.random.randn(output_dim) for i in range(num_units)]\n",
        "        self.learning_rate = 0.1\n",
        "        self.momentum = 0.9\n",
        "        self.delta_w = [np.zeros((input_dim, output_dim)) for i in range(num_units)]\n",
        "        self.delta_b = [np.zeros(output_dim) for i in range(num_units)]\n",
        "\n",
        "    # Train the Madaline using MR-I algorithm\n",
        "    def train(self, X, y, epochs):\n",
        "        for epoch in range(epochs):\n",
        "            for i in range(len(X)):\n",
        "                # Forward pass\n",
        "                outputs = [activation(np.dot(X[i], self.weights[j]) + self.biases[j]) for j in range(self.num_units)]\n",
        "                output = np.sum(outputs, axis=0)\n",
        "                \n",
        "                # Compute the error\n",
        "                error = y[i] - output\n",
        "                \n",
        "                # Backward pass\n",
        "                for j in range(self.num_units):\n",
        "                    delta = self.learning_rate * error * X[i].reshape(-1,1)\n",
        "                    self.delta_w[j] = self.momentum * self.delta_w[j] + delta\n",
        "                    self.weights[j] += self.delta_w[j]\n",
        "                    \n",
        "                    delta = self.learning_rate * error\n",
        "                    self.delta_b[j] = self.momentum * self.delta_b[j] + delta\n",
        "                    self.biases[j] += self.delta_b[j]\n",
        "\n",
        "    # Predict the output for a given input\n",
        "    def predict(self, X):\n",
        "        outputs = [activation(np.dot(X, self.weights[j]) + self.biases[j]) for j in range(self.num_units)]\n",
        "        return np.sum(outputs, axis=0)\n",
        "\n",
        "# Define the OR function dataset\n",
        "X = np.array([[0, 0], [0, 1], [1, 0], [1, 1]])\n",
        "y = np.array([-1, 1, 1, 1])\n",
        "\n",
        "# Create a Madaline with 2 input neurons, 1 output neuron, and 2 Adaline units\n",
        "madaline = Madaline(2, 1, 2)\n",
        "\n",
        "# Train the Madaline for 100 epochs\n",
        "madaline.train(X, y, 100)\n",
        "\n",
        "# Predict the output for the inputs\n",
        "print(madaline.predict(np.array([[0, 0], [0, 1], [1, 0], [1, 1]])))"
      ]
    },
    {
      "cell_type": "markdown",
      "metadata": {
        "id": "aJRz5sc7CnwV"
      },
      "source": [
        "SC Prac8:Implement XOR function using McCulloch-Pitts neuron. (Consider binary data)."
      ]
    },
    {
      "cell_type": "code",
      "execution_count": null,
      "metadata": {
        "colab": {
          "base_uri": "https://localhost:8080/"
        },
        "id": "b2LriQZ-CqPo",
        "outputId": "479e7374-32ec-4ee2-9224-4b913ea2b5c8"
      },
      "outputs": [
        {
          "name": "stdout",
          "output_type": "stream",
          "text": [
            "Input: [0 0], Output: 0\n",
            "Input: [0 1], Output: 1\n",
            "Input: [1 0], Output: 1\n",
            "Input: [1 1], Output: 1\n"
          ]
        }
      ],
      "source": [
        "import numpy as np\n",
        "\n",
        "def activation(x):\n",
        "    return np.where(x >= 0, 1, 0)\n",
        "\n",
        "class McCullochPittsNeuron:\n",
        "    def __init__(self, weights, threshold):\n",
        "        self.weights = weights\n",
        "        self.threshold = threshold\n",
        "\n",
        "    def forward(self, x):\n",
        "        x = np.dot(x, self.weights)\n",
        "        return activation(x - self.threshold)\n",
        "\n",
        "class XOR:\n",
        "    def __init__(self):\n",
        "        self.n1 = McCullochPittsNeuron(np.array([1, 1]), 1)\n",
        "        self.n2 = McCullochPittsNeuron(np.array([-1, -1]), -1)\n",
        "        self.n3 = McCullochPittsNeuron(np.array([1, -1]), 0)\n",
        "\n",
        "    def forward(self, x):\n",
        "        x1 = self.n1.forward(x)\n",
        "        x2 = self.n2.forward(x)\n",
        "        x = np.array([x1, x2])\n",
        "        return self.n3.forward(x)\n",
        "\n",
        "x = np.array([[0, 0], [0, 1], [1, 0], [1, 1]])\n",
        "xor = XOR()\n",
        "\n",
        "for i in range(len(x)):\n",
        "    print(f\"Input: {x[i]}, Output: {xor.forward(x[i])}\")"
      ]
    },
    {
      "cell_type": "markdown",
      "metadata": {
        "id": "u1X_BXnU-l-t"
      },
      "source": [
        "SC Prac9:Write a program to classify the two-dimensional input pattern shown in figure using Perceptron network. The symbol “*” indicates the data representation to be +1 and “#” indicates data to be -1. For the pattern I, the target is +1 and for the pattern H, the target is -1."
      ]
    },
    {
      "cell_type": "code",
      "execution_count": null,
      "metadata": {
        "colab": {
          "base_uri": "https://localhost:8080/"
        },
        "id": "YXrc0R1z-bwU",
        "outputId": "cb0692a9-a992-445b-b3f0-49c734321898"
      },
      "outputs": [
        {
          "name": "stdout",
          "output_type": "stream",
          "text": [
            "Prediction for pattern I: 1\n",
            "Prediction for pattern H: -1\n"
          ]
        }
      ],
      "source": [
        "import numpy as np\n",
        "\n",
        "# Define the input patterns and their targets\n",
        "I = np.array([[1, 1, 1], [0, 1, 0], [1, 1, 1]])\n",
        "H = np.array([[1, 0, 1], [1, 1, 1], [1, 0, 1]])\n",
        "I_target = 1\n",
        "H_target = -1\n",
        "\n",
        "# Flatten the input patterns\n",
        "I_flat = I.flatten()\n",
        "H_flat = H.flatten()\n",
        "\n",
        "# Define the Perceptron class\n",
        "class Perceptron:\n",
        "    def __init__(self, input_dim):\n",
        "        self.weights = np.random.randn(input_dim)\n",
        "        self.bias = np.random.randn()\n",
        "        self.learning_rate = 0.1\n",
        "\n",
        "    # Train the perceptron using the input data and target label\n",
        "    def train(self, X, y, epochs):\n",
        "        for epoch in range(epochs):\n",
        "            for i in range(len(X)):\n",
        "                # Forward pass\n",
        "                output = np.where(np.dot(X[i], self.weights) + self.bias >= 0, 1, -1)\n",
        "\n",
        "                # Compute the error\n",
        "                error = y[i] - output\n",
        "\n",
        "                # Backward pass\n",
        "                delta_w = self.learning_rate * X[i] * error\n",
        "                self.weights += delta_w\n",
        "                self.bias += self.learning_rate * error\n",
        "\n",
        "    # Predict the output for a given input\n",
        "    def predict(self, X):\n",
        "        output = np.where(np.dot(X, self.weights) + self.bias >= 0, 1, -1)\n",
        "        return output\n",
        "\n",
        "# Create a perceptron with 9 input neurons\n",
        "perceptron = Perceptron(9)\n",
        "\n",
        "# Train the perceptron for 100 epochs on the I and H patterns\n",
        "X = np.array([I_flat, H_flat])\n",
        "y = np.array([I_target, H_target])\n",
        "perceptron.train(X, y, 100)\n",
        "\n",
        "# Predict the output for the I and H patterns\n",
        "I_pred = perceptron.predict(I_flat)\n",
        "H_pred = perceptron.predict(H_flat)\n",
        "print(f\"Prediction for pattern I: {I_pred}\")\n",
        "print(f\"Prediction for pattern H: {H_pred}\")"
      ]
    },
    {
      "cell_type": "markdown",
      "metadata": {
        "id": "RxMCs0E9DpGH"
      },
      "source": [
        "SC Prac10:Write a program to classify the data using back propagation neural network.(consider Breast cancer dataset)"
      ]
    },
    {
      "cell_type": "code",
      "execution_count": null,
      "metadata": {
        "colab": {
          "base_uri": "https://localhost:8080/"
        },
        "id": "Eo8H60SoDroP",
        "outputId": "d896d178-d457-4e8d-a4cf-812c133c6617"
      },
      "outputs": [
        {
          "name": "stdout",
          "output_type": "stream",
          "text": [
            "Epoch 1/50\n",
            "15/15 [==============================] - 1s 15ms/step - loss: 0.6911 - accuracy: 0.6637 - val_loss: 0.5441 - val_accuracy: 0.7105\n",
            "Epoch 2/50\n",
            "15/15 [==============================] - 0s 5ms/step - loss: 0.4540 - accuracy: 0.8286 - val_loss: 0.3948 - val_accuracy: 0.8772\n",
            "Epoch 3/50\n",
            "15/15 [==============================] - 0s 5ms/step - loss: 0.3239 - accuracy: 0.9231 - val_loss: 0.3205 - val_accuracy: 0.9035\n",
            "Epoch 4/50\n",
            "15/15 [==============================] - 0s 4ms/step - loss: 0.2614 - accuracy: 0.9473 - val_loss: 0.2773 - val_accuracy: 0.9035\n",
            "Epoch 5/50\n",
            "15/15 [==============================] - 0s 4ms/step - loss: 0.2243 - accuracy: 0.9560 - val_loss: 0.2487 - val_accuracy: 0.9035\n",
            "Epoch 6/50\n",
            "15/15 [==============================] - 0s 3ms/step - loss: 0.1983 - accuracy: 0.9604 - val_loss: 0.2288 - val_accuracy: 0.9123\n",
            "Epoch 7/50\n",
            "15/15 [==============================] - 0s 3ms/step - loss: 0.1790 - accuracy: 0.9626 - val_loss: 0.2132 - val_accuracy: 0.9123\n",
            "Epoch 8/50\n",
            "15/15 [==============================] - 0s 3ms/step - loss: 0.1635 - accuracy: 0.9626 - val_loss: 0.2001 - val_accuracy: 0.9211\n",
            "Epoch 9/50\n",
            "15/15 [==============================] - 0s 3ms/step - loss: 0.1507 - accuracy: 0.9648 - val_loss: 0.1898 - val_accuracy: 0.9211\n",
            "Epoch 10/50\n",
            "15/15 [==============================] - 0s 4ms/step - loss: 0.1399 - accuracy: 0.9714 - val_loss: 0.1811 - val_accuracy: 0.9211\n",
            "Epoch 11/50\n",
            "15/15 [==============================] - 0s 3ms/step - loss: 0.1309 - accuracy: 0.9736 - val_loss: 0.1734 - val_accuracy: 0.9211\n",
            "Epoch 12/50\n",
            "15/15 [==============================] - 0s 4ms/step - loss: 0.1230 - accuracy: 0.9736 - val_loss: 0.1664 - val_accuracy: 0.9298\n",
            "Epoch 13/50\n",
            "15/15 [==============================] - 0s 4ms/step - loss: 0.1162 - accuracy: 0.9758 - val_loss: 0.1605 - val_accuracy: 0.9386\n",
            "Epoch 14/50\n",
            "15/15 [==============================] - 0s 4ms/step - loss: 0.1105 - accuracy: 0.9780 - val_loss: 0.1554 - val_accuracy: 0.9561\n",
            "Epoch 15/50\n",
            "15/15 [==============================] - 0s 4ms/step - loss: 0.1053 - accuracy: 0.9780 - val_loss: 0.1511 - val_accuracy: 0.9561\n",
            "Epoch 16/50\n",
            "15/15 [==============================] - 0s 5ms/step - loss: 0.1005 - accuracy: 0.9780 - val_loss: 0.1472 - val_accuracy: 0.9561\n",
            "Epoch 17/50\n",
            "15/15 [==============================] - 0s 4ms/step - loss: 0.0961 - accuracy: 0.9780 - val_loss: 0.1435 - val_accuracy: 0.9649\n",
            "Epoch 18/50\n",
            "15/15 [==============================] - 0s 3ms/step - loss: 0.0924 - accuracy: 0.9802 - val_loss: 0.1404 - val_accuracy: 0.9649\n",
            "Epoch 19/50\n",
            "15/15 [==============================] - 0s 5ms/step - loss: 0.0889 - accuracy: 0.9802 - val_loss: 0.1374 - val_accuracy: 0.9649\n",
            "Epoch 20/50\n",
            "15/15 [==============================] - 0s 3ms/step - loss: 0.0857 - accuracy: 0.9824 - val_loss: 0.1349 - val_accuracy: 0.9649\n",
            "Epoch 21/50\n",
            "15/15 [==============================] - 0s 4ms/step - loss: 0.0828 - accuracy: 0.9824 - val_loss: 0.1330 - val_accuracy: 0.9649\n",
            "Epoch 22/50\n",
            "15/15 [==============================] - 0s 3ms/step - loss: 0.0802 - accuracy: 0.9824 - val_loss: 0.1311 - val_accuracy: 0.9649\n",
            "Epoch 23/50\n",
            "15/15 [==============================] - 0s 3ms/step - loss: 0.0777 - accuracy: 0.9824 - val_loss: 0.1293 - val_accuracy: 0.9649\n",
            "Epoch 24/50\n",
            "15/15 [==============================] - 0s 3ms/step - loss: 0.0753 - accuracy: 0.9824 - val_loss: 0.1277 - val_accuracy: 0.9649\n",
            "Epoch 25/50\n",
            "15/15 [==============================] - 0s 3ms/step - loss: 0.0733 - accuracy: 0.9846 - val_loss: 0.1259 - val_accuracy: 0.9649\n",
            "Epoch 26/50\n",
            "15/15 [==============================] - 0s 3ms/step - loss: 0.0711 - accuracy: 0.9846 - val_loss: 0.1250 - val_accuracy: 0.9649\n",
            "Epoch 27/50\n",
            "15/15 [==============================] - 0s 3ms/step - loss: 0.0695 - accuracy: 0.9846 - val_loss: 0.1239 - val_accuracy: 0.9649\n",
            "Epoch 28/50\n",
            "15/15 [==============================] - 0s 4ms/step - loss: 0.0677 - accuracy: 0.9868 - val_loss: 0.1229 - val_accuracy: 0.9649\n",
            "Epoch 29/50\n",
            "15/15 [==============================] - 0s 3ms/step - loss: 0.0661 - accuracy: 0.9868 - val_loss: 0.1218 - val_accuracy: 0.9649\n",
            "Epoch 30/50\n",
            "15/15 [==============================] - 0s 3ms/step - loss: 0.0647 - accuracy: 0.9868 - val_loss: 0.1210 - val_accuracy: 0.9649\n",
            "Epoch 31/50\n",
            "15/15 [==============================] - 0s 4ms/step - loss: 0.0633 - accuracy: 0.9868 - val_loss: 0.1200 - val_accuracy: 0.9649\n",
            "Epoch 32/50\n",
            "15/15 [==============================] - 0s 3ms/step - loss: 0.0619 - accuracy: 0.9868 - val_loss: 0.1193 - val_accuracy: 0.9649\n",
            "Epoch 33/50\n",
            "15/15 [==============================] - 0s 3ms/step - loss: 0.0606 - accuracy: 0.9868 - val_loss: 0.1184 - val_accuracy: 0.9649\n",
            "Epoch 34/50\n",
            "15/15 [==============================] - 0s 5ms/step - loss: 0.0592 - accuracy: 0.9868 - val_loss: 0.1178 - val_accuracy: 0.9649\n",
            "Epoch 35/50\n",
            "15/15 [==============================] - 0s 4ms/step - loss: 0.0581 - accuracy: 0.9868 - val_loss: 0.1171 - val_accuracy: 0.9737\n",
            "Epoch 36/50\n",
            "15/15 [==============================] - 0s 3ms/step - loss: 0.0569 - accuracy: 0.9868 - val_loss: 0.1166 - val_accuracy: 0.9737\n",
            "Epoch 37/50\n",
            "15/15 [==============================] - 0s 3ms/step - loss: 0.0560 - accuracy: 0.9868 - val_loss: 0.1161 - val_accuracy: 0.9737\n",
            "Epoch 38/50\n",
            "15/15 [==============================] - 0s 4ms/step - loss: 0.0551 - accuracy: 0.9890 - val_loss: 0.1154 - val_accuracy: 0.9737\n",
            "Epoch 39/50\n",
            "15/15 [==============================] - 0s 5ms/step - loss: 0.0537 - accuracy: 0.9890 - val_loss: 0.1151 - val_accuracy: 0.9737\n",
            "Epoch 40/50\n",
            "15/15 [==============================] - 0s 3ms/step - loss: 0.0528 - accuracy: 0.9890 - val_loss: 0.1149 - val_accuracy: 0.9737\n",
            "Epoch 41/50\n",
            "15/15 [==============================] - 0s 3ms/step - loss: 0.0519 - accuracy: 0.9890 - val_loss: 0.1146 - val_accuracy: 0.9737\n",
            "Epoch 42/50\n",
            "15/15 [==============================] - 0s 3ms/step - loss: 0.0510 - accuracy: 0.9890 - val_loss: 0.1143 - val_accuracy: 0.9737\n",
            "Epoch 43/50\n",
            "15/15 [==============================] - 0s 3ms/step - loss: 0.0502 - accuracy: 0.9890 - val_loss: 0.1140 - val_accuracy: 0.9737\n",
            "Epoch 44/50\n",
            "15/15 [==============================] - 0s 4ms/step - loss: 0.0492 - accuracy: 0.9890 - val_loss: 0.1141 - val_accuracy: 0.9737\n",
            "Epoch 45/50\n",
            "15/15 [==============================] - 0s 3ms/step - loss: 0.0486 - accuracy: 0.9890 - val_loss: 0.1141 - val_accuracy: 0.9737\n",
            "Epoch 46/50\n",
            "15/15 [==============================] - 0s 5ms/step - loss: 0.0478 - accuracy: 0.9890 - val_loss: 0.1134 - val_accuracy: 0.9737\n",
            "Epoch 47/50\n",
            "15/15 [==============================] - 0s 3ms/step - loss: 0.0470 - accuracy: 0.9890 - val_loss: 0.1134 - val_accuracy: 0.9737\n",
            "Epoch 48/50\n",
            "15/15 [==============================] - 0s 3ms/step - loss: 0.0463 - accuracy: 0.9890 - val_loss: 0.1136 - val_accuracy: 0.9737\n",
            "Epoch 49/50\n",
            "15/15 [==============================] - 0s 4ms/step - loss: 0.0457 - accuracy: 0.9890 - val_loss: 0.1137 - val_accuracy: 0.9737\n",
            "Epoch 50/50\n",
            "15/15 [==============================] - 0s 4ms/step - loss: 0.0450 - accuracy: 0.9890 - val_loss: 0.1133 - val_accuracy: 0.9737\n",
            "4/4 [==============================] - 0s 3ms/step - loss: 0.1133 - accuracy: 0.9737\n",
            "Test Loss: 0.11333610117435455, Test Accuracy: 0.9736841917037964\n"
          ]
        }
      ],
      "source": [
        "import numpy as np\n",
        "from sklearn.datasets import load_breast_cancer\n",
        "from sklearn.model_selection import train_test_split\n",
        "from sklearn.preprocessing import StandardScaler\n",
        "from keras.models import Sequential\n",
        "from keras.layers import Dense\n",
        "\n",
        "# Load the breast cancer dataset\n",
        "data = load_breast_cancer()\n",
        "X = data.data\n",
        "y = data.target\n",
        "\n",
        "# Split the data into training and testing sets\n",
        "X_train, X_test, y_train, y_test = train_test_split(X, y, test_size=0.2)\n",
        "\n",
        "# Scale the data to zero mean and unit variance\n",
        "scaler = StandardScaler()\n",
        "X_train = scaler.fit_transform(X_train)\n",
        "X_test = scaler.transform(X_test)\n",
        "\n",
        "# Define the neural network model\n",
        "model = Sequential()\n",
        "model.add(Dense(units=16, activation='relu', input_dim=X_train.shape[1]))\n",
        "model.add(Dense(units=1, activation='sigmoid'))\n",
        "model.compile(optimizer='adam', loss='binary_crossentropy', metrics=['accuracy'])\n",
        "\n",
        "# Train the neural network model\n",
        "model.fit(X_train, y_train, epochs=50, batch_size=32, validation_data=(X_test, y_test))\n",
        "\n",
        "# Evaluate the model on the test data\n",
        "loss, accuracy = model.evaluate(X_test, y_test)\n",
        "print(f\"Test Loss: {loss}, Test Accuracy: {accuracy}\")"
      ]
    },
    {
      "cell_type": "markdown",
      "metadata": {
        "id": "AdCKBN3pFPsf"
      },
      "source": [
        "SC Prac 11:Write a suitable program for Classification of a 4-class problem with a 2-neuron perceptron."
      ]
    },
    {
      "cell_type": "code",
      "execution_count": null,
      "metadata": {
        "colab": {
          "base_uri": "https://localhost:8080/"
        },
        "id": "rE_dJlVRFSXF",
        "outputId": "3aa63fed-69a1-411f-9bf8-a4ebfcbece72"
      },
      "outputs": [
        {
          "name": "stdout",
          "output_type": "stream",
          "text": [
            "[[0 1]\n",
            " [0 1]\n",
            " [1 0]\n",
            " [1 0]]\n"
          ]
        }
      ],
      "source": [
        "import numpy as np\n",
        "\n",
        "# Define the activation function\n",
        "def activation(x):\n",
        "    return np.where(x>=0, 1, 0)\n",
        "\n",
        "# Define the Perceptron class\n",
        "class Perceptron:\n",
        "    def __init__(self, input_dim, output_dim):\n",
        "        self.weights = np.random.randn(input_dim, output_dim)\n",
        "        self.bias = np.random.randn(output_dim)\n",
        "        self.learning_rate = 0.1\n",
        "\n",
        "    # Train the perceptron using the input data and target labels\n",
        "    def train(self, X, y, epochs):\n",
        "        for epoch in range(epochs):\n",
        "            for i in range(len(X)):\n",
        "                # Forward pass\n",
        "                output = activation(np.dot(X[i], self.weights) + self.bias)\n",
        "\n",
        "                # Compute the error\n",
        "                error = y[i] - output\n",
        "\n",
        "                # Backward pass\n",
        "                delta_w = self.learning_rate * np.outer(X[i], error)\n",
        "                self.weights += delta_w\n",
        "                self.bias += self.learning_rate * error\n",
        "\n",
        "    # Predict the output for a given input\n",
        "    def predict(self, X):\n",
        "        output = activation(np.dot(X, self.weights) + self.bias)\n",
        "        return output\n",
        "\n",
        "# Define the input data\n",
        "X = np.array([[0,0], [0,1], [1,0], [1,1]])\n",
        "\n",
        "# Define the target labels\n",
        "Y = np.array([[1,0], [0,1], [0,1], [1,0]])\n",
        "\n",
        "# Create a perceptron with 2 input neurons and 2 output neurons\n",
        "perceptron = Perceptron(2, 2)\n",
        "\n",
        "# Train the perceptron for 100 epochs\n",
        "perceptron.train(X, Y, 100)\n",
        "\n",
        "# Predict the output for the test inputs\n",
        "Y_pred = perceptron.predict(X)\n",
        "\n",
        "# Print the predicted output\n",
        "print(Y_pred)"
      ]
    },
    {
      "cell_type": "markdown",
      "metadata": {
        "id": "V6PdQCwpExo7"
      },
      "source": [
        "Prac 12:Write a program to show the various fuzzy membership functions. (Triangular, Trapezoidal)"
      ]
    },
    {
      "cell_type": "code",
      "execution_count": null,
      "metadata": {
        "colab": {
          "base_uri": "https://localhost:8080/",
          "height": 430
        },
        "id": "5E1teB38EzqM",
        "outputId": "b100c685-550d-4163-b145-50c3607325da"
      },
      "outputs": [
        {
          "data": {
            "image/png": "[encoded data removed]",
            "text/plain": [
              "<Figure size 640x480 with 1 Axes>"
            ]
          },
          "metadata": {},
          "output_type": "display_data"
        }
      ],
      "source": [
        "import numpy as np\n",
        "import matplotlib.pyplot as plt\n",
        "\n",
        "# Define the input range\n",
        "x = np.arange(0, 11, 0.1)\n",
        "\n",
        "# Define the fuzzy membership functions\n",
        "# Triangular membership function\n",
        "def triangular(x, a, b, c):\n",
        "    return np.maximum(np.minimum((x - a) / (b - a), (c - x) / (c - b)), 0)\n",
        "\n",
        "# Trapezoidal membership function\n",
        "def trapezoidal(x, a, b, c, d):\n",
        "    return np.maximum(np.minimum((x - a) / (b - a), 1, (d - x) / (d - c)), 0)\n",
        "\n",
        "# Gaussian membership function\n",
        "def gaussian(x, mean, sigma):\n",
        "    return np.exp(-0.5 * ((x - mean) / sigma)**2)\n",
        "\n",
        "# Sigmoid membership function\n",
        "def sigmoid(x, alpha, beta):\n",
        "    return 1 / (1 + np.exp(-alpha * (x - beta)))\n",
        "\n",
        "# Bell membership function\n",
        "def bell(x, a, b, c):\n",
        "    return 1 / (1 + np.abs((x - c) / a)**(2 * b))\n",
        "\n",
        "# Plot the fuzzy membership functions\n",
        "plt.plot(x, triangular(x, 3, 5, 7), label='Triangular')\n",
        "plt.plot(x, trapezoidal(x, 2, 4, 6, 8), label='Trapezoidal')\n",
        "plt.plot(x, gaussian(x, 5, 1), label='Gaussian')\n",
        "plt.plot(x, sigmoid(x, 1, 5), label='Sigmoid')\n",
        "plt.plot(x, bell(x, 1, 2, 5), label='Bell')\n",
        "plt.legend()\n",
        "plt.show()"
      ]
    },
    {
      "cell_type": "markdown",
      "metadata": {
        "id": "sgAFqdvQGE4o"
      },
      "source": [
        "SC Prac 13:Implementation of Fuzzy Relations (Max-Min Composition)"
      ]
    },
    {
      "cell_type": "code",
      "execution_count": null,
      "metadata": {
        "colab": {
          "background_save": true
        },
        "id": "Y7eN-76hGG4f"
      },
      "outputs": [],
      "source": [
        "import numpy as np\n",
        "\n",
        "def max_min_composition(A, B):\n",
        "    \"\"\"\n",
        "    Computes the max-min composition of two fuzzy relations A and B.\n",
        "    \n",
        "    Parameters:\n",
        "    A (2D numpy array): Fuzzy relation on X x Y\n",
        "    B (2D numpy array): Fuzzy relation on Y x Z\n",
        "    \n",
        "    Returns:\n",
        "    C (2D numpy array): Fuzzy relation on X x Z\n",
        "    \"\"\"\n",
        "    X, Y = A.shape\n",
        "    Y2, Z = B.shape\n",
        "    assert Y == Y2, \"Incompatible shapes\"\n",
        "    \n",
        "    C = np.zeros((X, Z))\n",
        "    for x in range(X):\n",
        "        for z in range(Z):\n",
        "            C[x, z] = np.max(np.min(A[x, :] * B[:, z], axis=0))\n",
        "    \n",
        "    return C"
      ]
    },
    {
      "cell_type": "markdown",
      "source": [
        "Prac 14:Implement various Fuzzy Operations."
      ],
      "metadata": {
        "id": "Foc1h44bb5W0"
      }
    },
    {
      "cell_type": "code",
      "source": [
        "A = dict()\n",
        "B = dict()\n",
        "Y = dict()\n",
        "A = {\"a\": 0.2, \"b\": 0.3, \"c\": 0.6, \"d\": 0.6}\n",
        "B = {\"a\": 0.9, \"b\": 0.9, \"c\": 0.4, \"d\": 0.5}\n",
        "print('The First Fuzzy Set is :', A)\n",
        "print('The Second Fuzzy Set is :', B)\n",
        " \n",
        " \n",
        "for A_key, B_key in zip(A, B):\n",
        "    A_value = A[A_key]\n",
        "    B_value = B[B_key]\n",
        "    if A_value > B_value:\n",
        "        Y[A_key] = A_value\n",
        "    else:\n",
        "        Y[B_key] = B_value    \n",
        "print('Fuzzy Set Union is :', Y)\n",
        "for A_key, B_key in zip(A, B):\n",
        "    A_value = A[A_key]\n",
        "    B_value = B[B_key]\n",
        "    if A_value < B_value:\n",
        "        Y[A_key] = A_value\n",
        "    else:\n",
        "        Y[B_key] = B_value\n",
        "print('Fuzzy Set Intersection is :', Y)\n",
        "for A_key in A:\n",
        "   Y[A_key]= 1-A[A_key]      \n",
        "print('Fuzzy Set Complement A is :', Y)\n",
        "for B_key in B:\n",
        "   Y[B_key]= 1-B[B_key]      \n",
        "print('Fuzzy Set Complement is B :', Y)\n"
      ],
      "metadata": {
        "colab": {
          "base_uri": "https://localhost:8080/"
        },
        "id": "xj3h6AKWb-7U",
        "outputId": "4e33d2b8-0ad6-47e2-8a33-72fa708ae23f"
      },
      "execution_count": 1,
      "outputs": [
        {
          "output_type": "stream",
          "name": "stdout",
          "text": [
            "The First Fuzzy Set is : {'a': 0.2, 'b': 0.3, 'c': 0.6, 'd': 0.6}\n",
            "The Second Fuzzy Set is : {'a': 0.9, 'b': 0.9, 'c': 0.4, 'd': 0.5}\n",
            "Fuzzy Set Union is : {'a': 0.9, 'b': 0.9, 'c': 0.6, 'd': 0.6}\n",
            "Fuzzy Set Intersection is : {'a': 0.2, 'b': 0.3, 'c': 0.4, 'd': 0.5}\n",
            "Fuzzy Set Complement A is : {'a': 0.8, 'b': 0.7, 'c': 0.4, 'd': 0.4}\n",
            "Fuzzy Set Complement is B : {'a': 0.09999999999999998, 'b': 0.09999999999999998, 'c': 0.6, 'd': 0.5}\n"
          ]
        }
      ]
    },
    {
      "cell_type": "markdown",
      "source": [
        "Prac 15:Write a program to find the given Fuzzy relation is equivalence or not."
      ],
      "metadata": {
        "id": "WEx7gnS0cMcN"
      }
    },
    {
      "cell_type": "code",
      "source": [
        "def is_equivalence_relation(R):\n",
        "    # Check reflexivity\n",
        "    for x in R.keys():\n",
        "        if R[x][x] != 1:\n",
        "            return False\n",
        "    # Check symmetry\n",
        "    for x in R.keys():\n",
        "        for y in R.keys():\n",
        "            if R[x][y] != R[y][x]:\n",
        "                return False\n",
        "    # Check transitivity\n",
        "    for x in R.keys():\n",
        "        for y in R.keys():\n",
        "            for z in R.keys():\n",
        "                if R[x][y] >= R[y][z] and R[x][y] >= R[x][z]:\n",
        "                    if R[x][z] < min(R[x][y], R[y][z]):\n",
        "                        return False\n",
        "    return True\n",
        "R = {'a': {'a': 1, 'b': 0.5, 'c': 0.8},\n",
        "     'b': {'a': 0.5, 'b': 1, 'c': 0.6},\n",
        "     'c': {'a': 0.8, 'b': 0.6, 'c': 1}}\n",
        "\n",
        "if is_equivalence_relation(R):\n",
        "    print(\"The given fuzzy relation is an equivalence relation.\")\n",
        "else:\n",
        "    print(\"The given fuzzy relation is not an equivalence relation.\")\n"
      ],
      "metadata": {
        "colab": {
          "base_uri": "https://localhost:8080/"
        },
        "id": "gkyYHFJ3cUB0",
        "outputId": "013bd48a-5f31-4b7b-f679-5eac7d782f5f"
      },
      "execution_count": 2,
      "outputs": [
        {
          "output_type": "stream",
          "name": "stdout",
          "text": [
            "The given fuzzy relation is not an equivalence relation.\n"
          ]
        }
      ]
    },
    {
      "cell_type": "markdown",
      "source": [
        "Prac 18:Write a program for maximizing f(x)=x^2 using GA, where x is the range from 0 to 20. Perform 5 iterations only."
      ],
      "metadata": {
        "id": "yUCGC4v2ccv4"
      }
    },
    {
      "cell_type": "code",
      "source": [
        "import random\n",
        "# Define the fitness function\n",
        "def fitness(x):\n",
        "    return x ** 2\n",
        "\n",
        "# Define the genetic algorithm parameters\n",
        "POPULATION_SIZE = 50\n",
        "MUTATION_RATE = 0.1\n",
        "CROSSOVER_RATE = 0.8\n",
        "ELITISM = True\n",
        "\n",
        "# Initialize the population\n",
        "population = []\n",
        "for i in range(POPULATION_SIZE):\n",
        "    individual = {'x': random.uniform(0, 20)}\n",
        "    individual['fitness'] = fitness(individual['x'])\n",
        "    population.append(individual)\n",
        "\n",
        "# Perform 5 iterations\n",
        "for iteration in range(5):\n",
        "    # Sort the population by fitness\n",
        "    population.sort(key=lambda x: x['fitness'], reverse=True)\n",
        "    \n",
        "    # Print the best solution\n",
        "    print(\"Iteration {}: Best solution = {}\".format(iteration+1, population[0]['x']))\n",
        "    \n",
        "    # Select parents for crossover\n",
        "    parents = []\n",
        "    if ELITISM:\n",
        "        parents.append(population[0])\n",
        "    for i in range(POPULATION_SIZE-len(parents)):\n",
        "        parent1 = random.choice(population[:int(POPULATION_SIZE/2)])\n",
        "        parent2 = random.choice(population[:int(POPULATION_SIZE/2)])\n",
        "        parents.append(parent1 if parent1['fitness'] > parent2['fitness'] else parent2)\n",
        "    \n",
        "    # Create offspring using crossover\n",
        "    offspring = []\n",
        "    for i in range(int(POPULATION_SIZE/2)):\n",
        "        parent1 = parents[i]\n",
        "        parent2 = parents[len(parents)-i-1]\n",
        "        if random.random() < CROSSOVER_RATE:\n",
        "            child1 = {'x': (parent1['x'] + parent2['x']) / 2}\n",
        "            child2 = {'x': (parent1['x'] + parent2['x']) / 2}\n",
        "            child1['fitness'] = fitness(child1['x'])\n",
        "            child2['fitness'] = fitness(child2['x'])\n",
        "            offspring.append(child1)\n",
        "            offspring.append(child2)\n",
        "        else:\n",
        "            offspring.append(parent1)\n",
        "            offspring.append(parent2)\n",
        "    \n",
        "    # Mutate the offspring\n",
        "    for individual in offspring:\n",
        "        if random.random() < MUTATION_RATE:\n",
        "            individual['x'] = random.uniform(0, 20)\n",
        "            individual['fitness'] = fitness(individual['x'])\n",
        "    \n",
        "    # Replace the population with the offspring\n",
        "    population = parents + offspring\n",
        "\n",
        "# Print the best solution found overall\n",
        "population.sort(key=lambda x: x['fitness'], reverse=True)\n",
        "print(\"Best solution found = {}\".format(population[0]['x']))\n"
      ],
      "metadata": {
        "colab": {
          "base_uri": "https://localhost:8080/"
        },
        "id": "2pVtrafHcmor",
        "outputId": "32a4630e-33df-4245-b347-df309d9bcf82"
      },
      "execution_count": 3,
      "outputs": [
        {
          "output_type": "stream",
          "name": "stdout",
          "text": [
            "Iteration 1: Best solution = 19.631993008243104\n",
            "Iteration 2: Best solution = 19.765328870525924\n",
            "Iteration 3: Best solution = 19.765328870525924\n",
            "Iteration 4: Best solution = 19.765328870525924\n",
            "Iteration 5: Best solution = 19.765328870525924\n",
            "Best solution found = 19.765328870525924\n"
          ]
        }
      ]
    },
    {
      "cell_type": "markdown",
      "source": [
        "Prac 19:Use gatool and minimize the quadratic equation f(x)= x^2+3x+2 ;-6≤x≤0."
      ],
      "metadata": {
        "id": "tydG49xrcx8p"
      }
    },
    {
      "cell_type": "code",
      "source": [
        "import random\n",
        "\n",
        "# Define the fitness function\n",
        "def fitness(x):\n",
        "    return x ** 2 + 3 * x + 2\n",
        "\n",
        "# Define the genetic algorithm parameters\n",
        "POPULATION_SIZE = 50\n",
        "MUTATION_RATE = 0.1\n",
        "CROSSOVER_RATE = 0.8\n",
        "ELITISM = True\n",
        "LOWER_BOUND = -6\n",
        "UPPER_BOUND = 0\n",
        "\n",
        "# Initialize the population\n",
        "population = []\n",
        "for i in range(POPULATION_SIZE):\n",
        "    individual = {'x': random.uniform(LOWER_BOUND, UPPER_BOUND)}\n",
        "    individual['fitness'] = fitness(individual['x'])\n",
        "    population.append(individual)\n",
        "\n",
        "# Define the selection function\n",
        "def selection(population):\n",
        "    sorted_pop = sorted(population, key=lambda x: x['fitness'])\n",
        "    fitness_sum = sum(individual['fitness'] for individual in population)\n",
        "    selection_prob = [(individual['fitness'] / fitness_sum) for individual in sorted_pop]\n",
        "    cumulative_prob = [sum(selection_prob[:i+1]) for i in range(len(selection_prob))]\n",
        "    selected = []\n",
        "    for i in range(len(population)):\n",
        "        r = random.random()\n",
        "        for j in range(len(cumulative_prob)):\n",
        "            if r < cumulative_prob[j]:\n",
        "                selected.append(sorted_pop[j])\n",
        "                break\n",
        "    return selected\n",
        "\n",
        "for generation in range(50):\n",
        "    population.sort(key=lambda x: x['fitness'])\n",
        "    \n",
        "    parents = []\n",
        "    if ELITISM:\n",
        "        parents.append(population[0])\n",
        "    parents += selection(population)\n",
        "    while len(parents) < POPULATION_SIZE:\n",
        "        parents += selection(population)\n",
        "    \n",
        "    offspring = []\n",
        "    for i in range(int(POPULATION_SIZE/2)):\n",
        "        parent1 = parents[i]\n",
        "        parent2 = parents[len(parents)-i-1]\n",
        "        if random.random() < CROSSOVER_RATE:\n",
        "            child1 = {'x': (parent1['x'] + parent2['x']) / 2}\n",
        "            child2 = {'x': (parent1['x'] + parent2['x']) / 2}\n",
        "            child1['fitness'] = fitness(child1['x'])\n",
        "            child2['fitness'] = fitness(child2['x'])\n",
        "            offspring.append(child1)\n",
        "            offspring.append(child2)\n",
        "        else:\n",
        "            offspring.append(parent1)\n",
        "            offspring.append(parent2)\n",
        "    for individual in offspring:\n",
        "        if random.random() < MUTATION_RATE:\n",
        "            individual['x'] += random.uniform(-1, 1)\n",
        "            individual['x'] = max(LOWER_BOUND, min(UPPER_BOUND, individual['x']))\n",
        "            individual['fitness'] = fitness(individual['x'])\n",
        "    population = parents + offspring\n",
        "population.sort(key=lambda x: x['fitness'])\n",
        "print(\"Best solution found: x = {:.4f}, f(x) = {:.4f}\".format(population[0]['x'], population[0]['fitness']))\n"
      ],
      "metadata": {
        "id": "niku1tqGc3Gd"
      },
      "execution_count": null,
      "outputs": []
    },
    {
      "cell_type": "markdown",
      "source": [
        "Prac 20:Use gatoolto maximizethe function f(x_1,x_2 )=4x_1+5x_2, within the range 1 to 2."
      ],
      "metadata": {
        "id": "9_X9piUVdAsG"
      }
    },
    {
      "cell_type": "code",
      "source": [
        "import random\n",
        "min_value = 1\n",
        "max_value = 2\n",
        "pop_size = 50\n",
        "max_gen = 5\n",
        "def fitness(x1, x2):\n",
        "    return 4*x1 + 5*x2\n",
        "\n",
        "def mutate(chromosome):\n",
        "    for i in range(len(chromosome)):\n",
        "        if random.random() < 0.01:\n",
        "            chromosome[i] = random.uniform(min_value, max_value)\n",
        "population = []\n",
        "for i in range(pop_size):\n",
        "    chromosome = [random.uniform(min_value, max_value) for _ in range(2)]\n",
        "    population.append(chromosome)\n",
        "for gen in range(max_gen):\n",
        "    fitness_values = [fitness(chromosome[0], chromosome[1]) for chromosome in population]\n",
        "    selected_indices = []\n",
        "    for _ in range(pop_size):\n",
        "        subset = random.sample(range(pop_size), 5)\n",
        "        selected_index = max(subset, key=lambda i: fitness_values[i])\n",
        "        selected_indices.append(selected_index)\n",
        "\n",
        "    offspring = []\n",
        "    for i in range(pop_size):\n",
        "        parent1 = population[selected_indices[i]]\n",
        "        parent2 = population[selected_indices[(i+1)%pop_size]]\n",
        "        crossover_point = random.randint(1, len(parent1) - 1)\n",
        "        child = parent1[:crossover_point] + parent2[crossover_point:]\n",
        "        mutate(child)\n",
        "        offspring.append(child)\n",
        "    population = offspring\n",
        "    best_fitness = max(fitness_values)\n",
        "    print(f\"Generation {gen}: Best Fitness = {best_fitness}\")\n",
        "best_chromosome = max(population, key=lambda chromosome: fitness(chromosome[0], chromosome[1]))\n",
        "print(f\"Best Solution: x1 = {best_chromosome[0]}, x2 = {best_chromosome[1]}, f(x1,x2) = {fitness(best_chromosome[0], best_chromosome[1])}\")\n"
      ],
      "metadata": {
        "id": "zKxngSYTdFpX"
      },
      "execution_count": null,
      "outputs": []
    }
  ],
  "metadata": {
    "colab": {
      "provenance": []
    },
    "kernelspec": {
      "display_name": "Python 3",
      "name": "python3"
    },
    "language_info": {
      "name": "python"
    }
  },
  "nbformat": 4,
  "nbformat_minor": 0
}